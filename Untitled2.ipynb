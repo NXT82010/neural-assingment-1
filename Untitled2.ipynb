{
  "nbformat": 4,
  "nbformat_minor": 0,
  "metadata": {
    "colab": {
      "provenance": []
    },
    "kernelspec": {
      "name": "python3",
      "display_name": "Python 3"
    },
    "language_info": {
      "name": "python"
    }
  },
  "cells": [
    {
      "cell_type": "code",
      "execution_count": null,
      "metadata": {
        "colab": {
          "base_uri": "https://localhost:8080/"
        },
        "id": "-dwy_N8Ta2vU",
        "outputId": "04e65a4f-35e7-4fe6-b954-9bf1106a2537"
      },
      "outputs": [
        {
          "output_type": "stream",
          "name": "stdout",
          "text": [
            "python\n",
            "nhty\n"
          ]
        }
      ],
      "source": [
        "s=input()\n",
        "l=list(s)\n",
        "l.remove('p');\n",
        "l.remove('o');\n",
        "l=l[::-1]\n",
        "# print(l)\n",
        "a=''\n",
        "for i in l:\n",
        "    a=a+i\n",
        "print(a)"
      ]
    },
    {
      "cell_type": "code",
      "source": [
        "a=int(input())\n",
        "b=int(input())\n",
        "\n",
        "\n",
        "print(a,b)\n",
        "print(a*b)\n",
        "print(a+b)\n",
        "print(a-b)\n",
        "print(a%b)"
      ],
      "metadata": {
        "colab": {
          "base_uri": "https://localhost:8080/"
        },
        "id": "P1EcgsFwbWF0",
        "outputId": "4e0df6f2-0833-4c35-b5dc-767aed5db66b"
      },
      "execution_count": null,
      "outputs": [
        {
          "output_type": "stream",
          "name": "stdout",
          "text": [
            "9\n",
            "6\n",
            "9 6\n",
            "54\n",
            "15\n",
            "3\n",
            "3\n"
          ]
        }
      ]
    },
    {
      "cell_type": "code",
      "source": [
        "x=int(input(\"enter a value between 1 and 100: \"))\n",
        "if(x>90):\n",
        "    print(\"your grade is A\")\n",
        "elif(x<=90 and x>80):\n",
        "    print(\"your grade is B\")\n",
        "elif(x<=80 and x>70):\n",
        "    print(\"your grade is C\")\n",
        "elif(x<=70 and x>60):\n",
        "    print(\"your grade is D\")\n",
        "else:\n",
        "    print(\"your grade is F\")"
      ],
      "metadata": {
        "colab": {
          "base_uri": "https://localhost:8080/"
        },
        "id": "NC5vAY0ObgVN",
        "outputId": "2fd84130-bce6-4a36-fe34-a5b91af3d958"
      },
      "execution_count": null,
      "outputs": [
        {
          "output_type": "stream",
          "name": "stdout",
          "text": [
            "enter a value between 1 and 100: 86\n",
            "your grade is B\n"
          ]
        }
      ]
    },
    {
      "cell_type": "code",
      "source": [
        "str=input()\n",
        "x=str.replace(\"python\",\"pythons\")\n",
        "print(x)\n"
      ],
      "metadata": {
        "colab": {
          "base_uri": "https://localhost:8080/"
        },
        "id": "eo_FzP9jb4gQ",
        "outputId": "1d8bfd85-e966-4a90-c8d7-386ae08fd0c5"
      },
      "execution_count": null,
      "outputs": [
        {
          "output_type": "stream",
          "name": "stdout",
          "text": [
            "i am python\n",
            "i am pythons\n"
          ]
        }
      ]
    }
  ]
}